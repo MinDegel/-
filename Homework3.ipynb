{
 "cells": [
  {
   "cell_type": "markdown",
   "metadata": {},
   "source": [
    "1.编写 Python程序,判断输入a是否为质数"
   ]
  },
  {
   "cell_type": "code",
   "execution_count": 2,
   "metadata": {},
   "outputs": [
    {
     "name": "stdout",
     "output_type": "stream",
     "text": [
      "False\n"
     ]
    }
   ],
   "source": [
    "a=int(input(''))\n",
    "k = 1\n",
    "for i in range(2,a):\n",
    "    if a % i != 0:\n",
    "        k = 0\n",
    "if k == 1:\n",
    "    print('True')\n",
    "else:\n",
    "    print('False')\n",
    "\n",
    "#输入30"
   ]
  },
  {
   "cell_type": "markdown",
   "metadata": {},
   "source": [
    "2.用Python实现插入排序该算法，不允许直接调用插入排序函数，需要手动实现其逻辑过程。"
   ]
  },
  {
   "cell_type": "code",
   "execution_count": 7,
   "metadata": {},
   "outputs": [
    {
     "name": "stdout",
     "output_type": "stream",
     "text": [
      "[1, 2, 3, 4, 5]\n"
     ]
    }
   ],
   "source": [
    "def Insert_sort(arr):\n",
    "    for i in range(1,len(arr)):\n",
    "        j = i-1\n",
    "        if arr[i]<arr[j]:\n",
    "            temp = arr[i]\n",
    "            while j >= 0 and arr[j] > temp:\n",
    "                arr[j + 1] = arr[j]\n",
    "                j-=1  \n",
    "            arr[j+1] = temp\n",
    "\n",
    "if __name__=='__main__':\n",
    "    nums = [5, 4, 3, 2, 1]\n",
    "\n",
    "Insert_sort(nums)\n",
    "print(nums)"
   ]
  },
  {
   "cell_type": "markdown",
   "metadata": {},
   "source": [
    "3.用Python实现选择排序该算法，不允许直接调用选择排序函数，需要手动实现其逻辑过程。"
   ]
  },
  {
   "cell_type": "code",
   "execution_count": 11,
   "metadata": {},
   "outputs": [
    {
     "name": "stdout",
     "output_type": "stream",
     "text": [
      "[1, 2, 3, 4, 5]\n"
     ]
    }
   ],
   "source": [
    "def Select_sort(arr):\n",
    "    for i in range(len(arr)-1):\n",
    "        for j in range(i+1,len(arr)):\n",
    "            if arr[j] < arr[i]:\n",
    "                temp = arr[i]\n",
    "                arr[i] = arr[j]\n",
    "                arr[j] = temp\n",
    "\n",
    "if __name__=='__main__':\n",
    "    nums = [5, 4, 3, 1, 2]\n",
    "\n",
    "    Select_sort(nums)\n",
    "    print(nums)"
   ]
  },
  {
   "cell_type": "markdown",
   "metadata": {},
   "source": [
    "4.用Python实现快速排序该算法，不允许直接调用快速排序函数，需要手动实现其逻辑过程。"
   ]
  },
  {
   "cell_type": "code",
   "execution_count": 12,
   "metadata": {},
   "outputs": [
    {
     "name": "stdout",
     "output_type": "stream",
     "text": [
      "[1, 5, 7, 8, 9, 10]\n"
     ]
    }
   ],
   "source": [
    "def Quick_sort(arr):\n",
    "    def quick_sort(low, high):\n",
    "        if low < high:\n",
    "\n",
    "            pi = partition(low, high)\n",
    "\n",
    "            quick_sort(low, pi - 1)\n",
    "            quick_sort(pi + 1, high)\n",
    "\n",
    "    def partition(low, high):\n",
    "        temp = arr[high]  \n",
    "        i = low - 1  \n",
    "\n",
    "        for j in range(low, high):\n",
    "            if arr[j] < temp:  \n",
    "                i += 1\n",
    "                arr[i], arr[j] = arr[j], arr[i]\n",
    "\n",
    "        arr[i + 1], arr[high] = arr[high], arr[i + 1]\n",
    "        return i + 1 \n",
    "\n",
    "    quick_sort(0, len(arr) - 1)\n",
    "\n",
    "if __name__=='__main__':\n",
    "    nums = [10, 7, 8, 9, 1, 5]\n",
    "\n",
    "    Quick_sort(nums)\n",
    "    print(nums)"
   ]
  },
  {
   "cell_type": "markdown",
   "metadata": {},
   "source": [
    "5.使用 Python 随机生成三组长度递增的随机数列，长度分别为100、1000、10000，对生成的随机数组使用不同的排序算法，例如选择排序和归并排序，至少三种排序方法。对这些数列的数据排序，并分析不同排序算法在不同长度数列下的运行效果，例如运行时间等指标。（可以使用排序函数）"
   ]
  },
  {
   "cell_type": "code",
   "execution_count": 23,
   "metadata": {},
   "outputs": [
    {
     "name": "stdout",
     "output_type": "stream",
     "text": [
      "100:\n",
      "Selection_sort: 0.0001094 seconds\n",
      "Merge_sort: 0.0000738 seconds\n",
      "sorted: 0.0000067 seconds\n",
      "1000:\n",
      "Selection_sort: 0.0125390 seconds\n",
      "Merge_sort: 0.0008992 seconds\n",
      "sorted: 0.0000717 seconds\n",
      "10000:\n",
      "Selection_sort: 1.2753076 seconds\n",
      "Merge_sort: 0.0120368 seconds\n",
      "sorted: 0.0008466 seconds\n"
     ]
    }
   ],
   "source": [
    "import random\n",
    "import time\n",
    "\n",
    "def Selection_sort(arr):\n",
    "    n = len(arr)\n",
    "    for i in range(n):\n",
    "        min_idx = i\n",
    "        for j in range(i + 1, n):\n",
    "            if arr[j] < arr[min_idx]:\n",
    "                min_idx = j\n",
    "        arr[i], arr[min_idx] = arr[min_idx], arr[i]\n",
    "\n",
    "def Merge_sort(arr):\n",
    "    if len(arr) > 1:\n",
    "        mid = len(arr) // 2\n",
    "        L = arr[:mid]\n",
    "        R = arr[mid:]\n",
    "\n",
    "        Merge_sort(L)\n",
    "        Merge_sort(R)\n",
    "\n",
    "        i = j = k = 0\n",
    "\n",
    "        while i < len(L) and j < len(R):\n",
    "            if L[i] < R[j]:\n",
    "                arr[k] = L[i]\n",
    "                i += 1\n",
    "            else:\n",
    "                arr[k] = R[j]\n",
    "                j += 1\n",
    "            k += 1\n",
    "\n",
    "        while i < len(L):\n",
    "            arr[k] = L[i]\n",
    "            i += 1\n",
    "            k += 1\n",
    "\n",
    "        while j < len(R):\n",
    "            arr[k] = R[j]\n",
    "            j += 1\n",
    "            k += 1\n",
    "\n",
    "lengths = [100, 1000, 10000]\n",
    "algorithms = [Selection_sort, Merge_sort, sorted]\n",
    "\n",
    "for length in lengths:\n",
    "\n",
    "    random_array = [random.randint(0, 10000) for _ in range(length)]\n",
    "    \n",
    "    print(f\"{length}:\")\n",
    "    \n",
    "    for algorithm in algorithms:\n",
    "        arr_copy = random_array.copy()\n",
    "\n",
    "        start_time = time.perf_counter()\n",
    "        algorithm(arr_copy)\n",
    "        end_time = time.perf_counter()\n",
    "\n",
    "        print(f\"{algorithm.__name__}: {end_time - start_time:.7f} seconds\")"
   ]
  },
  {
   "cell_type": "markdown",
   "metadata": {},
   "source": [
    "6.使用python代码获取当前系统时间"
   ]
  },
  {
   "cell_type": "code",
   "execution_count": 25,
   "metadata": {},
   "outputs": [
    {
     "name": "stdout",
     "output_type": "stream",
     "text": [
      "2024-10-23 11:49:03.310428\n"
     ]
    }
   ],
   "source": [
    "from datetime import datetime\n",
    "\n",
    "current_time = datetime.now()\n",
    "\n",
    "print(current_time)"
   ]
  },
  {
   "cell_type": "markdown",
   "metadata": {},
   "source": [
    "7.Homework/data文件夹下的stuGrade.csv文件中包含5位同学的学号、语文成绩、数学成绩和英语成绩，请先用记事本打开该文件，查看文件内容，然后编写Python程序，读取该文件，并计算出各科的平均成绩（保留2位小数）。"
   ]
  },
  {
   "cell_type": "code",
   "execution_count": null,
   "metadata": {},
   "outputs": [],
   "source": [
    "with open(\"stuGrade.csv\", \"r\") as f:\n",
    "\n",
    "    data = f.readlines()"
   ]
  },
  {
   "cell_type": "markdown",
   "metadata": {},
   "source": [
    "8.请在第7题的代码继续编写Python程序，将以下内容写入my.txt文件中，一并上传到github中。\n",
    "\n",
    "    第1行：你的学号和姓名\n",
    "\n",
    "    第2行：3门课程的平均成绩（任意课程），保留2位小数，以英文逗号间隔\n",
    "\n",
    "    第3行：系统当前时间，格式例如2020-01-01 12:00:00\n",
    "\n",
    "    第4行：两秒后的系统当前时间（利用sleep()方法）"
   ]
  }
 ],
 "metadata": {
  "kernelspec": {
   "display_name": "Python 3",
   "language": "python",
   "name": "python3"
  },
  "language_info": {
   "codemirror_mode": {
    "name": "ipython",
    "version": 3
   },
   "file_extension": ".py",
   "mimetype": "text/x-python",
   "name": "python",
   "nbconvert_exporter": "python",
   "pygments_lexer": "ipython3",
   "version": "3.12.2"
  }
 },
 "nbformat": 4,
 "nbformat_minor": 2
}
